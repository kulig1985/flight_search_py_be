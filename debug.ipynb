{
 "cells": [
  {
   "cell_type": "code",
   "execution_count": 1,
   "id": "4c5fadf1",
   "metadata": {},
   "outputs": [],
   "source": [
    "import sys\n",
    "import os\n",
    "import time"
   ]
  },
  {
   "cell_type": "code",
   "execution_count": 8,
   "id": "769f498a",
   "metadata": {},
   "outputs": [
    {
     "name": "stdout",
     "output_type": "stream",
     "text": [
      "result/routes_to_check_df_2022-06-13-10-27.xlsx is NOT eligible to delete!\n",
      "result/last_run_result_df_2022-06-13-10-29.xlsx is NOT eligible to delete!\n",
      "result/last_run_result_df_2022-06-13-10-27.xlsx is NOT eligible to delete!\n"
     ]
    }
   ],
   "source": [
    "path = 'result/'\n",
    "now = time.time()\n",
    "\n",
    "for f in os.listdir(path):\n",
    "    f = os.path.join(path, f)\n",
    "    if (os.stat(f).st_mtime < now - 3 * 86400) & (os.path.isfile(f)) & f.endswith('.xlsx'):\n",
    "        print(f'{os.path.join(path, f)} eligible to delete!')\n",
    "        os.remove(os.path.join(path, f))\n",
    "    else:\n",
    "        print(f'{f} is NOT eligible to delete!')"
   ]
  },
  {
   "cell_type": "code",
   "execution_count": 9,
   "id": "4bf68c28",
   "metadata": {},
   "outputs": [
    {
     "name": "stdout",
     "output_type": "stream",
     "text": [
      "True\n",
      "True\n",
      "True\n"
     ]
    }
   ],
   "source": [
    "for f in os.listdir(path):\n",
    "    f = os.path.join(path, f)\n",
    "    print(f.endswith('.xlsx'))"
   ]
  },
  {
   "cell_type": "code",
   "execution_count": null,
   "id": "3ce49320",
   "metadata": {},
   "outputs": [],
   "source": []
  }
 ],
 "metadata": {
  "kernelspec": {
   "display_name": "Python 3 (ipykernel)",
   "language": "python",
   "name": "python3"
  },
  "language_info": {
   "codemirror_mode": {
    "name": "ipython",
    "version": 3
   },
   "file_extension": ".py",
   "mimetype": "text/x-python",
   "name": "python",
   "nbconvert_exporter": "python",
   "pygments_lexer": "ipython3",
   "version": "3.9.7"
  }
 },
 "nbformat": 4,
 "nbformat_minor": 5
}
